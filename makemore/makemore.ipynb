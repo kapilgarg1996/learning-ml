{
 "cells": [
  {
   "cell_type": "code",
   "execution_count": 1,
   "id": "34dc5664-ced6-4192-961b-52af7e2d7e5a",
   "metadata": {},
   "outputs": [
    {
     "name": "stdout",
     "output_type": "stream",
     "text": [
      "hello\n"
     ]
    }
   ],
   "source": [
    "print(\"hello\")"
   ]
  },
  {
   "cell_type": "code",
   "execution_count": 2,
   "id": "749974e0-4392-4c55-9cf0-a9afb8b67309",
   "metadata": {},
   "outputs": [],
   "source": [
    "with open('names.txt') as f:\n",
    "    names = [ line.strip() for line in f.readlines()]"
   ]
  },
  {
   "cell_type": "code",
   "execution_count": 3,
   "id": "b441ea76-e3ea-4623-8bda-5dc7265d4ccd",
   "metadata": {},
   "outputs": [
    {
     "data": {
      "text/plain": [
       "['emma', 'olivia', 'ava', 'isabella']"
      ]
     },
     "execution_count": 3,
     "metadata": {},
     "output_type": "execute_result"
    }
   ],
   "source": [
    "names[:4]"
   ]
  },
  {
   "cell_type": "code",
   "execution_count": 4,
   "id": "57445ba5-4369-4bf8-9e8c-c5338148ce1c",
   "metadata": {},
   "outputs": [
    {
     "name": "stdout",
     "output_type": "stream",
     "text": [
      "32033\n",
      "2\n"
     ]
    },
    {
     "data": {
      "text/plain": [
       "15"
      ]
     },
     "execution_count": 4,
     "metadata": {},
     "output_type": "execute_result"
    }
   ],
   "source": [
    "print(len(names))\n",
    "print(min(len(n) for n in names))\n",
    "max(len(n) for n in names)"
   ]
  },
  {
   "cell_type": "code",
   "execution_count": 5,
   "id": "4184a439-e26d-46ee-84a6-847b6064cd34",
   "metadata": {},
   "outputs": [],
   "source": [
    "b = {}\n",
    "for n in names:\n",
    "    chs = ['<S>'] + list(n) + ['<E>']\n",
    "    for ch1 , ch2 in zip(chs, chs[1:]):\n",
    "        bigram = (ch1, ch2)\n",
    "        b[bigram] = b.get(bigram, 0) + 1"
   ]
  },
  {
   "cell_type": "code",
   "execution_count": 6,
   "id": "a947766e-6674-4548-aa39-28faeb26849c",
   "metadata": {
    "tags": []
   },
   "outputs": [],
   "source": [
    "import torch"
   ]
  },
  {
   "cell_type": "code",
   "execution_count": 7,
   "id": "bdef740f-c37b-41ef-9222-a2d2ad4294eb",
   "metadata": {},
   "outputs": [],
   "source": [
    "N = torch.zeros((27, 27), dtype=torch.int32)"
   ]
  },
  {
   "cell_type": "code",
   "execution_count": 8,
   "id": "2966273b-3574-4a81-8615-37efe626fd1d",
   "metadata": {},
   "outputs": [],
   "source": [
    "chars = ['.'] + sorted(list(set(''.join(names))))\n",
    "stoi = {s:i for i, s in enumerate(chars)}"
   ]
  },
  {
   "cell_type": "code",
   "execution_count": 9,
   "id": "7663497e-6c99-482c-abe0-7c5378cf32a3",
   "metadata": {},
   "outputs": [],
   "source": [
    "for n in names:\n",
    "    chs = ['.'] + list(n) + ['.']\n",
    "    for ch1 , ch2 in zip(chs, chs[1:]):\n",
    "        N[stoi[ch1], stoi[ch2]] += 1"
   ]
  },
  {
   "cell_type": "code",
   "execution_count": null,
   "id": "54b24d11-92d7-443a-b6ff-83449a439e89",
   "metadata": {},
   "outputs": [],
   "source": []
  },
  {
   "cell_type": "code",
   "execution_count": 10,
   "id": "6d4642d6-2b89-4ac0-8ac4-cf269ec73a6b",
   "metadata": {},
   "outputs": [
    {
     "data": {
      "text/plain": [
       "<matplotlib.image.AxesImage at 0x7f1e4cca8f10>"
      ]
     },
     "execution_count": 10,
     "metadata": {},
     "output_type": "execute_result"
    },
    {
     "data": {
      "image/png": "[encoded data removed]",
      "text/plain": [
       "<Figure size 640x480 with 1 Axes>"
      ]
     },
     "metadata": {},
     "output_type": "display_data"
    }
   ],
   "source": [
    "import matplotlib.pyplot as plt\n",
    "%matplotlib inline\n",
    "plt.imshow(N)"
   ]
  },
  {
   "cell_type": "code",
   "execution_count": 11,
   "id": "47162aab-240e-4aba-98a8-21a7bc7c20ad",
   "metadata": {},
   "outputs": [
    {
     "data": {
      "text/plain": [
       "tensor(42, dtype=torch.int32)"
      ]
     },
     "execution_count": 11,
     "metadata": {},
     "output_type": "execute_result"
    }
   ],
   "source": [
    "N[3, 3]"
   ]
  },
  {
   "cell_type": "code",
   "execution_count": 12,
   "id": "d8900e8c-e916-4d77-b1a4-778adf635c60",
   "metadata": {},
   "outputs": [],
   "source": [
    "g = torch.Generator().manual_seed(2147483647)"
   ]
  },
  {
   "cell_type": "code",
   "execution_count": 13,
   "id": "9e8cf8c9-53c0-4929-968b-abe49ab0af05",
   "metadata": {},
   "outputs": [
    {
     "data": {
      "text/plain": [
       "{0: '.',\n",
       " 1: 'a',\n",
       " 2: 'b',\n",
       " 3: 'c',\n",
       " 4: 'd',\n",
       " 5: 'e',\n",
       " 6: 'f',\n",
       " 7: 'g',\n",
       " 8: 'h',\n",
       " 9: 'i',\n",
       " 10: 'j',\n",
       " 11: 'k',\n",
       " 12: 'l',\n",
       " 13: 'm',\n",
       " 14: 'n',\n",
       " 15: 'o',\n",
       " 16: 'p',\n",
       " 17: 'q',\n",
       " 18: 'r',\n",
       " 19: 's',\n",
       " 20: 't',\n",
       " 21: 'u',\n",
       " 22: 'v',\n",
       " 23: 'w',\n",
       " 24: 'x',\n",
       " 25: 'y',\n",
       " 26: 'z'}"
      ]
     },
     "execution_count": 13,
     "metadata": {},
     "output_type": "execute_result"
    }
   ],
   "source": [
    "itos = {i:s for s, i in stoi.items()}\n",
    "itos"
   ]
  },
  {
   "cell_type": "code",
   "execution_count": 17,
   "id": "e3811d0e-0d2f-4cbe-a85e-72765f69a58d",
   "metadata": {},
   "outputs": [],
   "source": [
    "P = (N+1).float()\n",
    "P = P / P.sum(1, keepdims=True)"
   ]
  },
  {
   "cell_type": "code",
   "execution_count": 18,
   "id": "8d380c44-f33f-4f5f-9224-d289f6815d40",
   "metadata": {},
   "outputs": [
    {
     "name": "stdout",
     "output_type": "stream",
     "text": [
      "mor\n",
      "axx\n",
      "minaymoryles\n",
      "kondlaisah\n",
      "anchshizarie\n",
      "odaren\n",
      "iaddash\n",
      "h\n",
      "jhinatien\n",
      "egushl\n",
      "h\n",
      "br\n",
      "a\n",
      "jayn\n",
      "ilemannariaenien\n",
      "be\n",
      "f\n",
      "akiinela\n",
      "trttanakeroruceyaaxatona\n",
      "lamoynayrkiedengin\n"
     ]
    }
   ],
   "source": [
    "g = torch.Generator().manual_seed(2147483647)\n",
    "for i in range(20):\n",
    "    ix = 0\n",
    "    name = []\n",
    "    while True:\n",
    "        p = P[ix]\n",
    "        ix = torch.multinomial(p, num_samples=1, replacement=True, generator=g).item()\n",
    "        if ix == 0:\n",
    "            break\n",
    "        name.append(itos[ix])\n",
    "    print(''.join(name))\n"
   ]
  },
  {
   "cell_type": "code",
   "execution_count": 19,
   "id": "750e13d0-5ec7-4930-868d-01c489b47dc9",
   "metadata": {},
   "outputs": [
    {
     "name": "stdout",
     "output_type": "stream",
     "text": [
      "loghood=tensor(-559951.5625)\n",
      "nll=tensor(2.4544)\n"
     ]
    }
   ],
   "source": [
    "\n",
    "loghood = 0.0\n",
    "c = 0\n",
    "for n in names:\n",
    "    chs = ['.'] + list(n) + ['.']\n",
    "    for ch1 , ch2 in zip(chs, chs[1:]):\n",
    "        c += 1\n",
    "        ix1 = stoi[ch1]\n",
    "        \n",
    "        ix2 = stoi[ch2]\n",
    "        prob = P[ix1, ix2]\n",
    "        logprob = torch.log(prob)\n",
    "        loghood += logprob\n",
    "\n",
    "print(f'{loghood=}')\n",
    "nll = -loghood / c\n",
    "\n",
    "print(f'{nll=}')\n",
    "\n",
    "        # N[ix1, ix2] += 1"
   ]
  },
  {
   "cell_type": "code",
   "execution_count": 20,
   "id": "ff97144e-0041-434a-968e-87c9fcac3c07",
   "metadata": {},
   "outputs": [],
   "source": [
    "xs, ys = [] , []\n",
    "for n in names:\n",
    "    chs = ['.'] + list(n) + ['.']\n",
    "    for ch1 , ch2 in zip(chs, chs[1:]):\n",
    "        ix1 = stoi[ch1]\n",
    "        ix2 = stoi[ch2]\n",
    "        xs.append(ix1)\n",
    "        ys.append(ix2)\n",
    "\n",
    "xs = torch.tensor(xs)\n",
    "ys = torch.tensor(ys)"
   ]
  },
  {
   "cell_type": "code",
   "execution_count": 25,
   "id": "2d811680-4d16-4bb3-8ef5-93164719db86",
   "metadata": {},
   "outputs": [
    {
     "data": {
      "text/plain": [
       "tensor([ 0,  5, 13, 13,  1])"
      ]
     },
     "execution_count": 25,
     "metadata": {},
     "output_type": "execute_result"
    }
   ],
   "source": [
    "xs[:5]"
   ]
  },
  {
   "cell_type": "code",
   "execution_count": 31,
   "id": "3057dd3c-426f-4f96-b411-772958c785d0",
   "metadata": {},
   "outputs": [],
   "source": [
    "import torch.nn.functional as F\n",
    "xenc = F.one_hot(xs, num_classes=27).float()"
   ]
  },
  {
   "cell_type": "code",
   "execution_count": 32,
   "id": "f54e4f84-48cb-4312-90b7-d05fe1df627d",
   "metadata": {},
   "outputs": [
    {
     "data": {
      "text/plain": [
       "torch.Size([228146, 27])"
      ]
     },
     "execution_count": 32,
     "metadata": {},
     "output_type": "execute_result"
    }
   ],
   "source": [
    "xenc.shape"
   ]
  },
  {
   "cell_type": "code",
   "execution_count": 33,
   "id": "b93fcb18-45ef-4d6c-8093-8b3efbeca63c",
   "metadata": {},
   "outputs": [
    {
     "data": {
      "text/plain": [
       "<matplotlib.image.AxesImage at 0x7f1e4aa83ee0>"
      ]
     },
     "execution_count": 33,
     "metadata": {},
     "output_type": "execute_result"
    },
    {
     "data": {
      "image/png": "[encoded data removed]",
      "text/plain": [
       "<Figure size 640x480 with 1 Axes>"
      ]
     },
     "metadata": {},
     "output_type": "display_data"
    }
   ],
   "source": [
    "plt.imshow(xenc[:5])"
   ]
  },
  {
   "cell_type": "code",
   "execution_count": 34,
   "id": "3dd8f331-ef77-44f9-a76c-c6ae7de629d9",
   "metadata": {},
   "outputs": [
    {
     "data": {
      "text/plain": [
       "torch.float32"
      ]
     },
     "execution_count": 34,
     "metadata": {},
     "output_type": "execute_result"
    }
   ],
   "source": [
    "xenc.dtype"
   ]
  },
  {
   "cell_type": "code",
   "execution_count": 35,
   "id": "513f4b26-9118-4a28-b0b7-5ba3ef1bb015",
   "metadata": {},
   "outputs": [],
   "source": [
    "W = torch.randn((27,27))\n",
    "counts = (xenc @ W).exp()\n",
    "prob = counts / counts.sum(1, keepdims=True)"
   ]
  },
  {
   "cell_type": "code",
   "execution_count": 37,
   "id": "d25db0e1-3f1c-4b3c-9a78-a1cd0c9aa95e",
   "metadata": {},
   "outputs": [
    {
     "data": {
      "text/plain": [
       "tensor([0.0110, 0.0240, 0.0512, 0.0365, 0.0317, 0.0086, 0.0154, 0.0075, 0.0361,\n",
       "        0.1141, 0.0287, 0.0370, 0.0081, 0.0129, 0.0605, 0.0609, 0.0519, 0.0098,\n",
       "        0.0076, 0.0590, 0.0265, 0.0033, 0.0044, 0.0418, 0.0049, 0.0321, 0.2148])"
      ]
     },
     "execution_count": 37,
     "metadata": {},
     "output_type": "execute_result"
    }
   ],
   "source": [
    "prob[0]"
   ]
  },
  {
   "cell_type": "code",
   "execution_count": 38,
   "id": "3369859f-fa81-4bca-9e5f-dcc72564715a",
   "metadata": {},
   "outputs": [
    {
     "data": {
      "text/plain": [
       "tensor(1.0000)"
      ]
     },
     "execution_count": 38,
     "metadata": {},
     "output_type": "execute_result"
    }
   ],
   "source": [
    "prob[0].sum()"
   ]
  },
  {
   "cell_type": "code",
   "execution_count": 44,
   "id": "4721d8c5-9788-424e-99fa-662e1e04fdce",
   "metadata": {},
   "outputs": [],
   "source": [
    "g = torch.Generator().manual_seed(2147482647)\n",
    "W = torch.randn((27, 27), generator=g, requires_grad=True)"
   ]
  },
  {
   "cell_type": "code",
   "execution_count": 41,
   "id": "cd41fd9f-fde1-477f-9fdb-b8e2e7599de2",
   "metadata": {},
   "outputs": [],
   "source": [
    "xenc = F.one_hot(xs, num_classes=27).float()\n",
    "logits = xenc @ W\n",
    "counts = logits.exp()\n",
    "probs = counts / counts.sum(1, keepdims=True)"
   ]
  },
  {
   "cell_type": "code",
   "execution_count": 42,
   "id": "555a9e64-f261-499b-b598-7406ecfa1334",
   "metadata": {},
   "outputs": [
    {
     "data": {
      "text/plain": [
       "torch.Size([228146, 27])"
      ]
     },
     "execution_count": 42,
     "metadata": {},
     "output_type": "execute_result"
    }
   ],
   "source": [
    "probs.shape"
   ]
  },
  {
   "cell_type": "code",
   "execution_count": 43,
   "id": "82f6b56e-426d-4d7a-894d-ae927bb8d78b",
   "metadata": {},
   "outputs": [
    {
     "name": "stdout",
     "output_type": "stream",
     "text": [
      "tensor(3.6804)\n"
     ]
    }
   ],
   "source": [
    "nlls = 0.0\n",
    "for i in range(len(xs)):\n",
    "    x = xs[i].item()\n",
    "    y = ys[i].item()\n",
    "    p = probs[i, y]\n",
    "    logp = torch.log(p)\n",
    "    nll = -logp\n",
    "    nlls += nll\n",
    "print(nlls/len(xs))\n",
    "    "
   ]
  },
  {
   "cell_type": "code",
   "execution_count": 50,
   "id": "366a7a65-f700-4e69-aa7f-b1cfad0d1efc",
   "metadata": {},
   "outputs": [
    {
     "name": "stdout",
     "output_type": "stream",
     "text": [
      "tensor(2.4622, grad_fn=<NegBackward0>)\n",
      "tensor(2.4622, grad_fn=<NegBackward0>)\n",
      "tensor(2.4621, grad_fn=<NegBackward0>)\n",
      "tensor(2.4621, grad_fn=<NegBackward0>)\n",
      "tensor(2.4621, grad_fn=<NegBackward0>)\n",
      "tensor(2.4620, grad_fn=<NegBackward0>)\n",
      "tensor(2.4620, grad_fn=<NegBackward0>)\n",
      "tensor(2.4619, grad_fn=<NegBackward0>)\n",
      "tensor(2.4619, grad_fn=<NegBackward0>)\n",
      "tensor(2.4618, grad_fn=<NegBackward0>)\n",
      "tensor(2.4618, grad_fn=<NegBackward0>)\n",
      "tensor(2.4618, grad_fn=<NegBackward0>)\n",
      "tensor(2.4617, grad_fn=<NegBackward0>)\n",
      "tensor(2.4617, grad_fn=<NegBackward0>)\n",
      "tensor(2.4616, grad_fn=<NegBackward0>)\n",
      "tensor(2.4616, grad_fn=<NegBackward0>)\n",
      "tensor(2.4616, grad_fn=<NegBackward0>)\n",
      "tensor(2.4615, grad_fn=<NegBackward0>)\n",
      "tensor(2.4615, grad_fn=<NegBackward0>)\n",
      "tensor(2.4614, grad_fn=<NegBackward0>)\n",
      "tensor(2.4614, grad_fn=<NegBackward0>)\n",
      "tensor(2.4614, grad_fn=<NegBackward0>)\n",
      "tensor(2.4613, grad_fn=<NegBackward0>)\n",
      "tensor(2.4613, grad_fn=<NegBackward0>)\n",
      "tensor(2.4613, grad_fn=<NegBackward0>)\n",
      "tensor(2.4612, grad_fn=<NegBackward0>)\n",
      "tensor(2.4612, grad_fn=<NegBackward0>)\n",
      "tensor(2.4612, grad_fn=<NegBackward0>)\n",
      "tensor(2.4611, grad_fn=<NegBackward0>)\n",
      "tensor(2.4611, grad_fn=<NegBackward0>)\n",
      "tensor(2.4611, grad_fn=<NegBackward0>)\n",
      "tensor(2.4610, grad_fn=<NegBackward0>)\n",
      "tensor(2.4610, grad_fn=<NegBackward0>)\n",
      "tensor(2.4610, grad_fn=<NegBackward0>)\n",
      "tensor(2.4609, grad_fn=<NegBackward0>)\n",
      "tensor(2.4609, grad_fn=<NegBackward0>)\n",
      "tensor(2.4609, grad_fn=<NegBackward0>)\n",
      "tensor(2.4608, grad_fn=<NegBackward0>)\n",
      "tensor(2.4608, grad_fn=<NegBackward0>)\n",
      "tensor(2.4608, grad_fn=<NegBackward0>)\n",
      "tensor(2.4607, grad_fn=<NegBackward0>)\n",
      "tensor(2.4607, grad_fn=<NegBackward0>)\n",
      "tensor(2.4607, grad_fn=<NegBackward0>)\n",
      "tensor(2.4606, grad_fn=<NegBackward0>)\n",
      "tensor(2.4606, grad_fn=<NegBackward0>)\n",
      "tensor(2.4606, grad_fn=<NegBackward0>)\n",
      "tensor(2.4605, grad_fn=<NegBackward0>)\n",
      "tensor(2.4605, grad_fn=<NegBackward0>)\n",
      "tensor(2.4605, grad_fn=<NegBackward0>)\n",
      "tensor(2.4605, grad_fn=<NegBackward0>)\n",
      "tensor(2.4604, grad_fn=<NegBackward0>)\n",
      "tensor(2.4604, grad_fn=<NegBackward0>)\n",
      "tensor(2.4604, grad_fn=<NegBackward0>)\n",
      "tensor(2.4603, grad_fn=<NegBackward0>)\n",
      "tensor(2.4603, grad_fn=<NegBackward0>)\n",
      "tensor(2.4603, grad_fn=<NegBackward0>)\n",
      "tensor(2.4603, grad_fn=<NegBackward0>)\n",
      "tensor(2.4602, grad_fn=<NegBackward0>)\n",
      "tensor(2.4602, grad_fn=<NegBackward0>)\n",
      "tensor(2.4602, grad_fn=<NegBackward0>)\n",
      "tensor(2.4601, grad_fn=<NegBackward0>)\n",
      "tensor(2.4601, grad_fn=<NegBackward0>)\n",
      "tensor(2.4601, grad_fn=<NegBackward0>)\n",
      "tensor(2.4601, grad_fn=<NegBackward0>)\n",
      "tensor(2.4600, grad_fn=<NegBackward0>)\n",
      "tensor(2.4600, grad_fn=<NegBackward0>)\n",
      "tensor(2.4600, grad_fn=<NegBackward0>)\n",
      "tensor(2.4600, grad_fn=<NegBackward0>)\n",
      "tensor(2.4599, grad_fn=<NegBackward0>)\n",
      "tensor(2.4599, grad_fn=<NegBackward0>)\n",
      "tensor(2.4599, grad_fn=<NegBackward0>)\n",
      "tensor(2.4599, grad_fn=<NegBackward0>)\n",
      "tensor(2.4598, grad_fn=<NegBackward0>)\n",
      "tensor(2.4598, grad_fn=<NegBackward0>)\n",
      "tensor(2.4598, grad_fn=<NegBackward0>)\n",
      "tensor(2.4598, grad_fn=<NegBackward0>)\n",
      "tensor(2.4597, grad_fn=<NegBackward0>)\n",
      "tensor(2.4597, grad_fn=<NegBackward0>)\n",
      "tensor(2.4597, grad_fn=<NegBackward0>)\n",
      "tensor(2.4597, grad_fn=<NegBackward0>)\n",
      "tensor(2.4597, grad_fn=<NegBackward0>)\n",
      "tensor(2.4596, grad_fn=<NegBackward0>)\n",
      "tensor(2.4596, grad_fn=<NegBackward0>)\n",
      "tensor(2.4596, grad_fn=<NegBackward0>)\n",
      "tensor(2.4596, grad_fn=<NegBackward0>)\n",
      "tensor(2.4595, grad_fn=<NegBackward0>)\n",
      "tensor(2.4595, grad_fn=<NegBackward0>)\n",
      "tensor(2.4595, grad_fn=<NegBackward0>)\n",
      "tensor(2.4595, grad_fn=<NegBackward0>)\n",
      "tensor(2.4595, grad_fn=<NegBackward0>)\n",
      "tensor(2.4594, grad_fn=<NegBackward0>)\n",
      "tensor(2.4594, grad_fn=<NegBackward0>)\n",
      "tensor(2.4594, grad_fn=<NegBackward0>)\n",
      "tensor(2.4594, grad_fn=<NegBackward0>)\n",
      "tensor(2.4594, grad_fn=<NegBackward0>)\n",
      "tensor(2.4593, grad_fn=<NegBackward0>)\n",
      "tensor(2.4593, grad_fn=<NegBackward0>)\n",
      "tensor(2.4593, grad_fn=<NegBackward0>)\n",
      "tensor(2.4593, grad_fn=<NegBackward0>)\n",
      "tensor(2.4593, grad_fn=<NegBackward0>)\n"
     ]
    }
   ],
   "source": [
    "for i in range(100):\n",
    "    ypred = xenc @ W\n",
    "    counts = ypred.exp()\n",
    "    Probs = counts / counts.sum(1, keepdims=True)\n",
    "    \n",
    "    nll = -Probs[torch.arange(len(xs)), ys].log().mean()\n",
    "    W.grad = None\n",
    "    nll.backward()\n",
    "    \n",
    "    W.data += -50 * W.grad\n",
    "    \n",
    "    print(nll)"
   ]
  },
  {
   "cell_type": "code",
   "execution_count": 54,
   "id": "0b108178-1cd9-4c2a-b868-dfcfbd0db869",
   "metadata": {},
   "outputs": [
    {
     "name": "stdout",
     "output_type": "stream",
     "text": [
      "mor\n",
      "axwaninaymoryles\n",
      "kondlaisah\n",
      "anchshizarie\n",
      "odaren\n",
      "iaddash\n",
      "h\n",
      "jionatien\n",
      "egushk\n",
      "ga\n",
      "t\n",
      "a\n",
      "jayn\n",
      "ilemannariaenien\n",
      "be\n",
      "f\n",
      "akiinela\n",
      "trttanakeroruceyaaxatona\n",
      "lamoynayrkhadengin\n",
      "torrederahmokallovyllobrqura\n"
     ]
    }
   ],
   "source": [
    "gen = torch.Generator().manual_seed(2147483647)\n",
    "wp = W.exp()\n",
    "wp = wp / wp.sum(1, keepdims=True)\n",
    "for i in range(20):\n",
    "    ix = 0\n",
    "    name = []\n",
    "    while True:\n",
    "        p = wp[ix]\n",
    "        ix = torch.multinomial(p, num_samples=1, replacement=True, generator=gen).item()\n",
    "        if ix == 0:\n",
    "            break\n",
    "        name.append(itos[ix])\n",
    "    print(''.join(name))"
   ]
  },
  {
   "cell_type": "code",
   "execution_count": null,
   "id": "3a2bbb33-47c9-4fcf-9fe1-098a80613540",
   "metadata": {},
   "outputs": [],
   "source": []
  }
 ],
 "metadata": {
  "kernelspec": {
   "display_name": "Python 3 (ipykernel)",
   "language": "python",
   "name": "python3"
  },
  "language_info": {
   "codemirror_mode": {
    "name": "ipython",
    "version": 3
   },
   "file_extension": ".py",
   "mimetype": "text/x-python",
   "name": "python",
   "nbconvert_exporter": "python",
   "pygments_lexer": "ipython3",
   "version": "3.10.6"
  }
 },
 "nbformat": 4,
 "nbformat_minor": 5
}
